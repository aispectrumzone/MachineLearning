{
  "nbformat": 4,
  "nbformat_minor": 0,
  "metadata": {
    "colab": {
      "provenance": []
    },
    "kernelspec": {
      "name": "python3",
      "display_name": "Python 3"
    },
    "language_info": {
      "name": "python"
    }
  },
  "cells": [
    {
      "cell_type": "markdown",
      "source": [
        "# About Dataset"
      ],
      "metadata": {
        "id": "TxzVfdqGjUEK"
      }
    },
    {
      "cell_type": "markdown",
      "source": [
        "tvmarketing.csv (also called the TV Marketing dataset or Advertising dataset) is a small toy dataset used mainly to teach linear regression.It contains advertising spending on TV and the corresponding product sales.The idea is to see if more money spent on TV ads actually leads to higher sales. Let us see the few record of the dataset\n",
        "\n",
        "![Screenshot 2025-09-01 004341.png](data:image/png;base64,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)\n"
      ],
      "metadata": {
        "id": "Y7Qfzlf5hlOj"
      }
    },
    {
      "cell_type": "markdown",
      "source": [
        "# Data Preprocessing"
      ],
      "metadata": {
        "id": "-KvPSUHPIbIt"
      }
    },
    {
      "cell_type": "code",
      "source": [
        "# Imports the pandas library and gives it the alias 'pd'\n",
        "# (commonly used for data manipulation and analysis)\n",
        "import pandas as pd"
      ],
      "metadata": {
        "id": "qD0buugzi3ty"
      },
      "execution_count": 1,
      "outputs": []
    },
    {
      "cell_type": "code",
      "source": [
        "# Reads the CSV file into a pandas DataFrame named 'df'\n",
        "df = pd.read_csv('/content/tvmarketing.csv')\n",
        "\n",
        "# Displays the first 5 rows of the DataFrame for a quick look at the data\n",
        "df.head()"
      ],
      "metadata": {
        "id": "-A-9tc8BkprK",
        "colab": {
          "base_uri": "https://localhost:8080/",
          "height": 206
        },
        "outputId": "cb07ef74-1391-4385-896b-8f23a7f6d27b"
      },
      "execution_count": 2,
      "outputs": [
        {
          "output_type": "execute_result",
          "data": {
            "text/plain": [
              "      TV  Sales\n",
              "0  230.1   22.1\n",
              "1   44.5   10.4\n",
              "2   17.2    9.3\n",
              "3  151.5   18.5\n",
              "4  180.8   12.9"
            ],
            "text/html": [
              "\n",
              "  <div id=\"df-02b50069-6dd6-4539-897c-5f8ead2e676d\" class=\"colab-df-container\">\n",
              "    <div>\n",
              "<style scoped>\n",
              "    .dataframe tbody tr th:only-of-type {\n",
              "        vertical-align: middle;\n",
              "    }\n",
              "\n",
              "    .dataframe tbody tr th {\n",
              "        vertical-align: top;\n",
              "    }\n",
              "\n",
              "    .dataframe thead th {\n",
              "        text-align: right;\n",
              "    }\n",
              "</style>\n",
              "<table border=\"1\" class=\"dataframe\">\n",
              "  <thead>\n",
              "    <tr style=\"text-align: right;\">\n",
              "      <th></th>\n",
              "      <th>TV</th>\n",
              "      <th>Sales</th>\n",
              "    </tr>\n",
              "  </thead>\n",
              "  <tbody>\n",
              "    <tr>\n",
              "      <th>0</th>\n",
              "      <td>230.1</td>\n",
              "      <td>22.1</td>\n",
              "    </tr>\n",
              "    <tr>\n",
              "      <th>1</th>\n",
              "      <td>44.5</td>\n",
              "      <td>10.4</td>\n",
              "    </tr>\n",
              "    <tr>\n",
              "      <th>2</th>\n",
              "      <td>17.2</td>\n",
              "      <td>9.3</td>\n",
              "    </tr>\n",
              "    <tr>\n",
              "      <th>3</th>\n",
              "      <td>151.5</td>\n",
              "      <td>18.5</td>\n",
              "    </tr>\n",
              "    <tr>\n",
              "      <th>4</th>\n",
              "      <td>180.8</td>\n",
              "      <td>12.9</td>\n",
              "    </tr>\n",
              "  </tbody>\n",
              "</table>\n",
              "</div>\n",
              "    <div class=\"colab-df-buttons\">\n",
              "\n",
              "  <div class=\"colab-df-container\">\n",
              "    <button class=\"colab-df-convert\" onclick=\"convertToInteractive('df-02b50069-6dd6-4539-897c-5f8ead2e676d')\"\n",
              "            title=\"Convert this dataframe to an interactive table.\"\n",
              "            style=\"display:none;\">\n",
              "\n",
              "  <svg xmlns=\"http://www.w3.org/2000/svg\" height=\"24px\" viewBox=\"0 -960 960 960\">\n",
              "    <path d=\"M120-120v-720h720v720H120Zm60-500h600v-160H180v160Zm220 220h160v-160H400v160Zm0 220h160v-160H400v160ZM180-400h160v-160H180v160Zm440 0h160v-160H620v160ZM180-180h160v-160H180v160Zm440 0h160v-160H620v160Z\"/>\n",
              "  </svg>\n",
              "    </button>\n",
              "\n",
              "  <style>\n",
              "    .colab-df-container {\n",
              "      display:flex;\n",
              "      gap: 12px;\n",
              "    }\n",
              "\n",
              "    .colab-df-convert {\n",
              "      background-color: #E8F0FE;\n",
              "      border: none;\n",
              "      border-radius: 50%;\n",
              "      cursor: pointer;\n",
              "      display: none;\n",
              "      fill: #1967D2;\n",
              "      height: 32px;\n",
              "      padding: 0 0 0 0;\n",
              "      width: 32px;\n",
              "    }\n",
              "\n",
              "    .colab-df-convert:hover {\n",
              "      background-color: #E2EBFA;\n",
              "      box-shadow: 0px 1px 2px rgba(60, 64, 67, 0.3), 0px 1px 3px 1px rgba(60, 64, 67, 0.15);\n",
              "      fill: #174EA6;\n",
              "    }\n",
              "\n",
              "    .colab-df-buttons div {\n",
              "      margin-bottom: 4px;\n",
              "    }\n",
              "\n",
              "    [theme=dark] .colab-df-convert {\n",
              "      background-color: #3B4455;\n",
              "      fill: #D2E3FC;\n",
              "    }\n",
              "\n",
              "    [theme=dark] .colab-df-convert:hover {\n",
              "      background-color: #434B5C;\n",
              "      box-shadow: 0px 1px 3px 1px rgba(0, 0, 0, 0.15);\n",
              "      filter: drop-shadow(0px 1px 2px rgba(0, 0, 0, 0.3));\n",
              "      fill: #FFFFFF;\n",
              "    }\n",
              "  </style>\n",
              "\n",
              "    <script>\n",
              "      const buttonEl =\n",
              "        document.querySelector('#df-02b50069-6dd6-4539-897c-5f8ead2e676d button.colab-df-convert');\n",
              "      buttonEl.style.display =\n",
              "        google.colab.kernel.accessAllowed ? 'block' : 'none';\n",
              "\n",
              "      async function convertToInteractive(key) {\n",
              "        const element = document.querySelector('#df-02b50069-6dd6-4539-897c-5f8ead2e676d');\n",
              "        const dataTable =\n",
              "          await google.colab.kernel.invokeFunction('convertToInteractive',\n",
              "                                                    [key], {});\n",
              "        if (!dataTable) return;\n",
              "\n",
              "        const docLinkHtml = 'Like what you see? Visit the ' +\n",
              "          '<a target=\"_blank\" href=https://colab.research.google.com/notebooks/data_table.ipynb>data table notebook</a>'\n",
              "          + ' to learn more about interactive tables.';\n",
              "        element.innerHTML = '';\n",
              "        dataTable['output_type'] = 'display_data';\n",
              "        await google.colab.output.renderOutput(dataTable, element);\n",
              "        const docLink = document.createElement('div');\n",
              "        docLink.innerHTML = docLinkHtml;\n",
              "        element.appendChild(docLink);\n",
              "      }\n",
              "    </script>\n",
              "  </div>\n",
              "\n",
              "\n",
              "    <div id=\"df-9dfac81d-cbb2-4e34-90bb-455cb317c773\">\n",
              "      <button class=\"colab-df-quickchart\" onclick=\"quickchart('df-9dfac81d-cbb2-4e34-90bb-455cb317c773')\"\n",
              "                title=\"Suggest charts\"\n",
              "                style=\"display:none;\">\n",
              "\n",
              "<svg xmlns=\"http://www.w3.org/2000/svg\" height=\"24px\"viewBox=\"0 0 24 24\"\n",
              "     width=\"24px\">\n",
              "    <g>\n",
              "        <path d=\"M19 3H5c-1.1 0-2 .9-2 2v14c0 1.1.9 2 2 2h14c1.1 0 2-.9 2-2V5c0-1.1-.9-2-2-2zM9 17H7v-7h2v7zm4 0h-2V7h2v10zm4 0h-2v-4h2v4z\"/>\n",
              "    </g>\n",
              "</svg>\n",
              "      </button>\n",
              "\n",
              "<style>\n",
              "  .colab-df-quickchart {\n",
              "      --bg-color: #E8F0FE;\n",
              "      --fill-color: #1967D2;\n",
              "      --hover-bg-color: #E2EBFA;\n",
              "      --hover-fill-color: #174EA6;\n",
              "      --disabled-fill-color: #AAA;\n",
              "      --disabled-bg-color: #DDD;\n",
              "  }\n",
              "\n",
              "  [theme=dark] .colab-df-quickchart {\n",
              "      --bg-color: #3B4455;\n",
              "      --fill-color: #D2E3FC;\n",
              "      --hover-bg-color: #434B5C;\n",
              "      --hover-fill-color: #FFFFFF;\n",
              "      --disabled-bg-color: #3B4455;\n",
              "      --disabled-fill-color: #666;\n",
              "  }\n",
              "\n",
              "  .colab-df-quickchart {\n",
              "    background-color: var(--bg-color);\n",
              "    border: none;\n",
              "    border-radius: 50%;\n",
              "    cursor: pointer;\n",
              "    display: none;\n",
              "    fill: var(--fill-color);\n",
              "    height: 32px;\n",
              "    padding: 0;\n",
              "    width: 32px;\n",
              "  }\n",
              "\n",
              "  .colab-df-quickchart:hover {\n",
              "    background-color: var(--hover-bg-color);\n",
              "    box-shadow: 0 1px 2px rgba(60, 64, 67, 0.3), 0 1px 3px 1px rgba(60, 64, 67, 0.15);\n",
              "    fill: var(--button-hover-fill-color);\n",
              "  }\n",
              "\n",
              "  .colab-df-quickchart-complete:disabled,\n",
              "  .colab-df-quickchart-complete:disabled:hover {\n",
              "    background-color: var(--disabled-bg-color);\n",
              "    fill: var(--disabled-fill-color);\n",
              "    box-shadow: none;\n",
              "  }\n",
              "\n",
              "  .colab-df-spinner {\n",
              "    border: 2px solid var(--fill-color);\n",
              "    border-color: transparent;\n",
              "    border-bottom-color: var(--fill-color);\n",
              "    animation:\n",
              "      spin 1s steps(1) infinite;\n",
              "  }\n",
              "\n",
              "  @keyframes spin {\n",
              "    0% {\n",
              "      border-color: transparent;\n",
              "      border-bottom-color: var(--fill-color);\n",
              "      border-left-color: var(--fill-color);\n",
              "    }\n",
              "    20% {\n",
              "      border-color: transparent;\n",
              "      border-left-color: var(--fill-color);\n",
              "      border-top-color: var(--fill-color);\n",
              "    }\n",
              "    30% {\n",
              "      border-color: transparent;\n",
              "      border-left-color: var(--fill-color);\n",
              "      border-top-color: var(--fill-color);\n",
              "      border-right-color: var(--fill-color);\n",
              "    }\n",
              "    40% {\n",
              "      border-color: transparent;\n",
              "      border-right-color: var(--fill-color);\n",
              "      border-top-color: var(--fill-color);\n",
              "    }\n",
              "    60% {\n",
              "      border-color: transparent;\n",
              "      border-right-color: var(--fill-color);\n",
              "    }\n",
              "    80% {\n",
              "      border-color: transparent;\n",
              "      border-right-color: var(--fill-color);\n",
              "      border-bottom-color: var(--fill-color);\n",
              "    }\n",
              "    90% {\n",
              "      border-color: transparent;\n",
              "      border-bottom-color: var(--fill-color);\n",
              "    }\n",
              "  }\n",
              "</style>\n",
              "\n",
              "      <script>\n",
              "        async function quickchart(key) {\n",
              "          const quickchartButtonEl =\n",
              "            document.querySelector('#' + key + ' button');\n",
              "          quickchartButtonEl.disabled = true;  // To prevent multiple clicks.\n",
              "          quickchartButtonEl.classList.add('colab-df-spinner');\n",
              "          try {\n",
              "            const charts = await google.colab.kernel.invokeFunction(\n",
              "                'suggestCharts', [key], {});\n",
              "          } catch (error) {\n",
              "            console.error('Error during call to suggestCharts:', error);\n",
              "          }\n",
              "          quickchartButtonEl.classList.remove('colab-df-spinner');\n",
              "          quickchartButtonEl.classList.add('colab-df-quickchart-complete');\n",
              "        }\n",
              "        (() => {\n",
              "          let quickchartButtonEl =\n",
              "            document.querySelector('#df-9dfac81d-cbb2-4e34-90bb-455cb317c773 button');\n",
              "          quickchartButtonEl.style.display =\n",
              "            google.colab.kernel.accessAllowed ? 'block' : 'none';\n",
              "        })();\n",
              "      </script>\n",
              "    </div>\n",
              "\n",
              "    </div>\n",
              "  </div>\n"
            ],
            "application/vnd.google.colaboratory.intrinsic+json": {
              "type": "dataframe",
              "variable_name": "df",
              "summary": "{\n  \"name\": \"df\",\n  \"rows\": 200,\n  \"fields\": [\n    {\n      \"column\": \"TV\",\n      \"properties\": {\n        \"dtype\": \"number\",\n        \"std\": 85.8542363149081,\n        \"min\": 0.7,\n        \"max\": 296.4,\n        \"num_unique_values\": 190,\n        \"samples\": [\n          287.6,\n          286.0,\n          78.2\n        ],\n        \"semantic_type\": \"\",\n        \"description\": \"\"\n      }\n    },\n    {\n      \"column\": \"Sales\",\n      \"properties\": {\n        \"dtype\": \"number\",\n        \"std\": 5.217456565710477,\n        \"min\": 1.6,\n        \"max\": 27.0,\n        \"num_unique_values\": 121,\n        \"samples\": [\n          11.4,\n          21.2,\n          12.9\n        ],\n        \"semantic_type\": \"\",\n        \"description\": \"\"\n      }\n    }\n  ]\n}"
            }
          },
          "metadata": {},
          "execution_count": 2
        }
      ]
    },
    {
      "cell_type": "code",
      "source": [
        "# Displays a summary of the DataFrame including column names, data types, non-null counts, and memory usage\n",
        "df.info()"
      ],
      "metadata": {
        "id": "BRiO2x25kjtg",
        "colab": {
          "base_uri": "https://localhost:8080/"
        },
        "outputId": "ba88874f-c8d6-41b0-a3fc-ca0ee36cb4a9"
      },
      "execution_count": 3,
      "outputs": [
        {
          "output_type": "stream",
          "name": "stdout",
          "text": [
            "<class 'pandas.core.frame.DataFrame'>\n",
            "RangeIndex: 200 entries, 0 to 199\n",
            "Data columns (total 2 columns):\n",
            " #   Column  Non-Null Count  Dtype  \n",
            "---  ------  --------------  -----  \n",
            " 0   TV      200 non-null    float64\n",
            " 1   Sales   200 non-null    float64\n",
            "dtypes: float64(2)\n",
            "memory usage: 3.3 KB\n"
          ]
        }
      ]
    },
    {
      "cell_type": "code",
      "source": [
        "# Returns the dimensions of the DataFrame as a tuple (rows, columns)\n",
        "df.shape"
      ],
      "metadata": {
        "id": "yO4lN86xlBQD",
        "colab": {
          "base_uri": "https://localhost:8080/"
        },
        "outputId": "02dc9560-7a40-4f02-dd0d-583010c04092"
      },
      "execution_count": 4,
      "outputs": [
        {
          "output_type": "execute_result",
          "data": {
            "text/plain": [
              "(200, 2)"
            ]
          },
          "metadata": {},
          "execution_count": 4
        }
      ]
    },
    {
      "cell_type": "code",
      "source": [
        "# Generates descriptive statistics (count, mean, std, min, quartiles, max) for numerical columns in the DataFrame\n",
        "df.describe()"
      ],
      "metadata": {
        "id": "YRmFhqcFlMOo",
        "colab": {
          "base_uri": "https://localhost:8080/",
          "height": 300
        },
        "outputId": "7218b538-741c-4897-a70e-c102914e62e5"
      },
      "execution_count": 5,
      "outputs": [
        {
          "output_type": "execute_result",
          "data": {
            "text/plain": [
              "               TV       Sales\n",
              "count  200.000000  200.000000\n",
              "mean   147.042500   14.022500\n",
              "std     85.854236    5.217457\n",
              "min      0.700000    1.600000\n",
              "25%     74.375000   10.375000\n",
              "50%    149.750000   12.900000\n",
              "75%    218.825000   17.400000\n",
              "max    296.400000   27.000000"
            ],
            "text/html": [
              "\n",
              "  <div id=\"df-028ebc86-5878-4f78-9762-f436add5049a\" class=\"colab-df-container\">\n",
              "    <div>\n",
              "<style scoped>\n",
              "    .dataframe tbody tr th:only-of-type {\n",
              "        vertical-align: middle;\n",
              "    }\n",
              "\n",
              "    .dataframe tbody tr th {\n",
              "        vertical-align: top;\n",
              "    }\n",
              "\n",
              "    .dataframe thead th {\n",
              "        text-align: right;\n",
              "    }\n",
              "</style>\n",
              "<table border=\"1\" class=\"dataframe\">\n",
              "  <thead>\n",
              "    <tr style=\"text-align: right;\">\n",
              "      <th></th>\n",
              "      <th>TV</th>\n",
              "      <th>Sales</th>\n",
              "    </tr>\n",
              "  </thead>\n",
              "  <tbody>\n",
              "    <tr>\n",
              "      <th>count</th>\n",
              "      <td>200.000000</td>\n",
              "      <td>200.000000</td>\n",
              "    </tr>\n",
              "    <tr>\n",
              "      <th>mean</th>\n",
              "      <td>147.042500</td>\n",
              "      <td>14.022500</td>\n",
              "    </tr>\n",
              "    <tr>\n",
              "      <th>std</th>\n",
              "      <td>85.854236</td>\n",
              "      <td>5.217457</td>\n",
              "    </tr>\n",
              "    <tr>\n",
              "      <th>min</th>\n",
              "      <td>0.700000</td>\n",
              "      <td>1.600000</td>\n",
              "    </tr>\n",
              "    <tr>\n",
              "      <th>25%</th>\n",
              "      <td>74.375000</td>\n",
              "      <td>10.375000</td>\n",
              "    </tr>\n",
              "    <tr>\n",
              "      <th>50%</th>\n",
              "      <td>149.750000</td>\n",
              "      <td>12.900000</td>\n",
              "    </tr>\n",
              "    <tr>\n",
              "      <th>75%</th>\n",
              "      <td>218.825000</td>\n",
              "      <td>17.400000</td>\n",
              "    </tr>\n",
              "    <tr>\n",
              "      <th>max</th>\n",
              "      <td>296.400000</td>\n",
              "      <td>27.000000</td>\n",
              "    </tr>\n",
              "  </tbody>\n",
              "</table>\n",
              "</div>\n",
              "    <div class=\"colab-df-buttons\">\n",
              "\n",
              "  <div class=\"colab-df-container\">\n",
              "    <button class=\"colab-df-convert\" onclick=\"convertToInteractive('df-028ebc86-5878-4f78-9762-f436add5049a')\"\n",
              "            title=\"Convert this dataframe to an interactive table.\"\n",
              "            style=\"display:none;\">\n",
              "\n",
              "  <svg xmlns=\"http://www.w3.org/2000/svg\" height=\"24px\" viewBox=\"0 -960 960 960\">\n",
              "    <path d=\"M120-120v-720h720v720H120Zm60-500h600v-160H180v160Zm220 220h160v-160H400v160Zm0 220h160v-160H400v160ZM180-400h160v-160H180v160Zm440 0h160v-160H620v160ZM180-180h160v-160H180v160Zm440 0h160v-160H620v160Z\"/>\n",
              "  </svg>\n",
              "    </button>\n",
              "\n",
              "  <style>\n",
              "    .colab-df-container {\n",
              "      display:flex;\n",
              "      gap: 12px;\n",
              "    }\n",
              "\n",
              "    .colab-df-convert {\n",
              "      background-color: #E8F0FE;\n",
              "      border: none;\n",
              "      border-radius: 50%;\n",
              "      cursor: pointer;\n",
              "      display: none;\n",
              "      fill: #1967D2;\n",
              "      height: 32px;\n",
              "      padding: 0 0 0 0;\n",
              "      width: 32px;\n",
              "    }\n",
              "\n",
              "    .colab-df-convert:hover {\n",
              "      background-color: #E2EBFA;\n",
              "      box-shadow: 0px 1px 2px rgba(60, 64, 67, 0.3), 0px 1px 3px 1px rgba(60, 64, 67, 0.15);\n",
              "      fill: #174EA6;\n",
              "    }\n",
              "\n",
              "    .colab-df-buttons div {\n",
              "      margin-bottom: 4px;\n",
              "    }\n",
              "\n",
              "    [theme=dark] .colab-df-convert {\n",
              "      background-color: #3B4455;\n",
              "      fill: #D2E3FC;\n",
              "    }\n",
              "\n",
              "    [theme=dark] .colab-df-convert:hover {\n",
              "      background-color: #434B5C;\n",
              "      box-shadow: 0px 1px 3px 1px rgba(0, 0, 0, 0.15);\n",
              "      filter: drop-shadow(0px 1px 2px rgba(0, 0, 0, 0.3));\n",
              "      fill: #FFFFFF;\n",
              "    }\n",
              "  </style>\n",
              "\n",
              "    <script>\n",
              "      const buttonEl =\n",
              "        document.querySelector('#df-028ebc86-5878-4f78-9762-f436add5049a button.colab-df-convert');\n",
              "      buttonEl.style.display =\n",
              "        google.colab.kernel.accessAllowed ? 'block' : 'none';\n",
              "\n",
              "      async function convertToInteractive(key) {\n",
              "        const element = document.querySelector('#df-028ebc86-5878-4f78-9762-f436add5049a');\n",
              "        const dataTable =\n",
              "          await google.colab.kernel.invokeFunction('convertToInteractive',\n",
              "                                                    [key], {});\n",
              "        if (!dataTable) return;\n",
              "\n",
              "        const docLinkHtml = 'Like what you see? Visit the ' +\n",
              "          '<a target=\"_blank\" href=https://colab.research.google.com/notebooks/data_table.ipynb>data table notebook</a>'\n",
              "          + ' to learn more about interactive tables.';\n",
              "        element.innerHTML = '';\n",
              "        dataTable['output_type'] = 'display_data';\n",
              "        await google.colab.output.renderOutput(dataTable, element);\n",
              "        const docLink = document.createElement('div');\n",
              "        docLink.innerHTML = docLinkHtml;\n",
              "        element.appendChild(docLink);\n",
              "      }\n",
              "    </script>\n",
              "  </div>\n",
              "\n",
              "\n",
              "    <div id=\"df-889f066c-9467-41ec-a3cb-d218ac44276a\">\n",
              "      <button class=\"colab-df-quickchart\" onclick=\"quickchart('df-889f066c-9467-41ec-a3cb-d218ac44276a')\"\n",
              "                title=\"Suggest charts\"\n",
              "                style=\"display:none;\">\n",
              "\n",
              "<svg xmlns=\"http://www.w3.org/2000/svg\" height=\"24px\"viewBox=\"0 0 24 24\"\n",
              "     width=\"24px\">\n",
              "    <g>\n",
              "        <path d=\"M19 3H5c-1.1 0-2 .9-2 2v14c0 1.1.9 2 2 2h14c1.1 0 2-.9 2-2V5c0-1.1-.9-2-2-2zM9 17H7v-7h2v7zm4 0h-2V7h2v10zm4 0h-2v-4h2v4z\"/>\n",
              "    </g>\n",
              "</svg>\n",
              "      </button>\n",
              "\n",
              "<style>\n",
              "  .colab-df-quickchart {\n",
              "      --bg-color: #E8F0FE;\n",
              "      --fill-color: #1967D2;\n",
              "      --hover-bg-color: #E2EBFA;\n",
              "      --hover-fill-color: #174EA6;\n",
              "      --disabled-fill-color: #AAA;\n",
              "      --disabled-bg-color: #DDD;\n",
              "  }\n",
              "\n",
              "  [theme=dark] .colab-df-quickchart {\n",
              "      --bg-color: #3B4455;\n",
              "      --fill-color: #D2E3FC;\n",
              "      --hover-bg-color: #434B5C;\n",
              "      --hover-fill-color: #FFFFFF;\n",
              "      --disabled-bg-color: #3B4455;\n",
              "      --disabled-fill-color: #666;\n",
              "  }\n",
              "\n",
              "  .colab-df-quickchart {\n",
              "    background-color: var(--bg-color);\n",
              "    border: none;\n",
              "    border-radius: 50%;\n",
              "    cursor: pointer;\n",
              "    display: none;\n",
              "    fill: var(--fill-color);\n",
              "    height: 32px;\n",
              "    padding: 0;\n",
              "    width: 32px;\n",
              "  }\n",
              "\n",
              "  .colab-df-quickchart:hover {\n",
              "    background-color: var(--hover-bg-color);\n",
              "    box-shadow: 0 1px 2px rgba(60, 64, 67, 0.3), 0 1px 3px 1px rgba(60, 64, 67, 0.15);\n",
              "    fill: var(--button-hover-fill-color);\n",
              "  }\n",
              "\n",
              "  .colab-df-quickchart-complete:disabled,\n",
              "  .colab-df-quickchart-complete:disabled:hover {\n",
              "    background-color: var(--disabled-bg-color);\n",
              "    fill: var(--disabled-fill-color);\n",
              "    box-shadow: none;\n",
              "  }\n",
              "\n",
              "  .colab-df-spinner {\n",
              "    border: 2px solid var(--fill-color);\n",
              "    border-color: transparent;\n",
              "    border-bottom-color: var(--fill-color);\n",
              "    animation:\n",
              "      spin 1s steps(1) infinite;\n",
              "  }\n",
              "\n",
              "  @keyframes spin {\n",
              "    0% {\n",
              "      border-color: transparent;\n",
              "      border-bottom-color: var(--fill-color);\n",
              "      border-left-color: var(--fill-color);\n",
              "    }\n",
              "    20% {\n",
              "      border-color: transparent;\n",
              "      border-left-color: var(--fill-color);\n",
              "      border-top-color: var(--fill-color);\n",
              "    }\n",
              "    30% {\n",
              "      border-color: transparent;\n",
              "      border-left-color: var(--fill-color);\n",
              "      border-top-color: var(--fill-color);\n",
              "      border-right-color: var(--fill-color);\n",
              "    }\n",
              "    40% {\n",
              "      border-color: transparent;\n",
              "      border-right-color: var(--fill-color);\n",
              "      border-top-color: var(--fill-color);\n",
              "    }\n",
              "    60% {\n",
              "      border-color: transparent;\n",
              "      border-right-color: var(--fill-color);\n",
              "    }\n",
              "    80% {\n",
              "      border-color: transparent;\n",
              "      border-right-color: var(--fill-color);\n",
              "      border-bottom-color: var(--fill-color);\n",
              "    }\n",
              "    90% {\n",
              "      border-color: transparent;\n",
              "      border-bottom-color: var(--fill-color);\n",
              "    }\n",
              "  }\n",
              "</style>\n",
              "\n",
              "      <script>\n",
              "        async function quickchart(key) {\n",
              "          const quickchartButtonEl =\n",
              "            document.querySelector('#' + key + ' button');\n",
              "          quickchartButtonEl.disabled = true;  // To prevent multiple clicks.\n",
              "          quickchartButtonEl.classList.add('colab-df-spinner');\n",
              "          try {\n",
              "            const charts = await google.colab.kernel.invokeFunction(\n",
              "                'suggestCharts', [key], {});\n",
              "          } catch (error) {\n",
              "            console.error('Error during call to suggestCharts:', error);\n",
              "          }\n",
              "          quickchartButtonEl.classList.remove('colab-df-spinner');\n",
              "          quickchartButtonEl.classList.add('colab-df-quickchart-complete');\n",
              "        }\n",
              "        (() => {\n",
              "          let quickchartButtonEl =\n",
              "            document.querySelector('#df-889f066c-9467-41ec-a3cb-d218ac44276a button');\n",
              "          quickchartButtonEl.style.display =\n",
              "            google.colab.kernel.accessAllowed ? 'block' : 'none';\n",
              "        })();\n",
              "      </script>\n",
              "    </div>\n",
              "\n",
              "    </div>\n",
              "  </div>\n"
            ],
            "application/vnd.google.colaboratory.intrinsic+json": {
              "type": "dataframe",
              "summary": "{\n  \"name\": \"df\",\n  \"rows\": 8,\n  \"fields\": [\n    {\n      \"column\": \"TV\",\n      \"properties\": {\n        \"dtype\": \"number\",\n        \"std\": 93.12930693433862,\n        \"min\": 0.7,\n        \"max\": 296.4,\n        \"num_unique_values\": 8,\n        \"samples\": [\n          147.0425,\n          149.75,\n          200.0\n        ],\n        \"semantic_type\": \"\",\n        \"description\": \"\"\n      }\n    },\n    {\n      \"column\": \"Sales\",\n      \"properties\": {\n        \"dtype\": \"number\",\n        \"std\": 66.68380930502315,\n        \"min\": 1.6,\n        \"max\": 200.0,\n        \"num_unique_values\": 8,\n        \"samples\": [\n          14.0225,\n          12.9,\n          200.0\n        ],\n        \"semantic_type\": \"\",\n        \"description\": \"\"\n      }\n    }\n  ]\n}"
            }
          },
          "metadata": {},
          "execution_count": 5
        }
      ]
    },
    {
      "cell_type": "code",
      "source": [
        "# Creates a scatter plot with 'TV' as the x-axis and 'Sales' as the y-axis to visualize their relationship\n",
        "df.plot(x='TV', y='Sales', kind='scatter')"
      ],
      "metadata": {
        "id": "i_NYy4DMlb3h",
        "colab": {
          "base_uri": "https://localhost:8080/",
          "height": 466
        },
        "outputId": "a6dc458d-a262-4cff-db6b-511a3ac57f74"
      },
      "execution_count": 6,
      "outputs": [
        {
          "output_type": "execute_result",
          "data": {
            "text/plain": [
              "<Axes: xlabel='TV', ylabel='Sales'>"
            ]
          },
          "metadata": {},
          "execution_count": 6
        },
        {
          "output_type": "display_data",
          "data": {
            "text/plain": [
              "<Figure size 640x480 with 1 Axes>"
            ],
            "image/png": "[encoded data removed]"
          },
          "metadata": {}
        }
      ]
    },
    {
      "cell_type": "markdown",
      "source": [
        "Equation of multiple linear regression<br>\n",
        "$y = a + m_1x_1 + m_2x_2 + ... + m_nx_n$\n",
        "\n",
        "-  $y$ is the response\n",
        "-  $a$ is the intercept\n",
        "-  $m_1$ is the coefficient for the first feature\n",
        "-  $m_n$ is the coefficient for the nth feature<br>\n",
        "\n",
        "In our case, it is simple linear regression and hence there will be only one feature variable\n",
        "\n",
        "$y = a + m_1 \\times TV$\n",
        "\n",
        "The $m$ values are called the model **coefficients** or **model parameters**."
      ],
      "metadata": {
        "id": "NrYb1iaXlwy6"
      }
    },
    {
      "cell_type": "code",
      "source": [
        "# Selects the 'TV' column from the DataFrame and stores it in variable X (this will be a pandas Series)\n",
        "X = df['TV']\n",
        "\n",
        "# Displays the first 5 values of X to quickly check the data\n",
        "X.head()"
      ],
      "metadata": {
        "id": "XU0Y341ImZAD",
        "colab": {
          "base_uri": "https://localhost:8080/",
          "height": 241
        },
        "outputId": "d90ef450-534c-45e2-81d2-b0fca54a67cc"
      },
      "execution_count": 7,
      "outputs": [
        {
          "output_type": "execute_result",
          "data": {
            "text/plain": [
              "0    230.1\n",
              "1     44.5\n",
              "2     17.2\n",
              "3    151.5\n",
              "4    180.8\n",
              "Name: TV, dtype: float64"
            ],
            "text/html": [
              "<div>\n",
              "<style scoped>\n",
              "    .dataframe tbody tr th:only-of-type {\n",
              "        vertical-align: middle;\n",
              "    }\n",
              "\n",
              "    .dataframe tbody tr th {\n",
              "        vertical-align: top;\n",
              "    }\n",
              "\n",
              "    .dataframe thead th {\n",
              "        text-align: right;\n",
              "    }\n",
              "</style>\n",
              "<table border=\"1\" class=\"dataframe\">\n",
              "  <thead>\n",
              "    <tr style=\"text-align: right;\">\n",
              "      <th></th>\n",
              "      <th>TV</th>\n",
              "    </tr>\n",
              "  </thead>\n",
              "  <tbody>\n",
              "    <tr>\n",
              "      <th>0</th>\n",
              "      <td>230.1</td>\n",
              "    </tr>\n",
              "    <tr>\n",
              "      <th>1</th>\n",
              "      <td>44.5</td>\n",
              "    </tr>\n",
              "    <tr>\n",
              "      <th>2</th>\n",
              "      <td>17.2</td>\n",
              "    </tr>\n",
              "    <tr>\n",
              "      <th>3</th>\n",
              "      <td>151.5</td>\n",
              "    </tr>\n",
              "    <tr>\n",
              "      <th>4</th>\n",
              "      <td>180.8</td>\n",
              "    </tr>\n",
              "  </tbody>\n",
              "</table>\n",
              "</div><br><label><b>dtype:</b> float64</label>"
            ]
          },
          "metadata": {},
          "execution_count": 7
        }
      ]
    },
    {
      "cell_type": "code",
      "source": [
        "# Selects the 'Sales' column from the DataFrame and stores it in variable y (this will be the target/output variable)\n",
        "y = df['Sales']\n",
        "\n",
        "# Displays the first 5 values of y to quickly check the target data\n",
        "y.head()"
      ],
      "metadata": {
        "id": "-HXeS1tBm4Q5",
        "colab": {
          "base_uri": "https://localhost:8080/",
          "height": 241
        },
        "outputId": "b61636f1-9e92-434f-ef35-1f4e86510068"
      },
      "execution_count": 8,
      "outputs": [
        {
          "output_type": "execute_result",
          "data": {
            "text/plain": [
              "0    22.1\n",
              "1    10.4\n",
              "2     9.3\n",
              "3    18.5\n",
              "4    12.9\n",
              "Name: Sales, dtype: float64"
            ],
            "text/html": [
              "<div>\n",
              "<style scoped>\n",
              "    .dataframe tbody tr th:only-of-type {\n",
              "        vertical-align: middle;\n",
              "    }\n",
              "\n",
              "    .dataframe tbody tr th {\n",
              "        vertical-align: top;\n",
              "    }\n",
              "\n",
              "    .dataframe thead th {\n",
              "        text-align: right;\n",
              "    }\n",
              "</style>\n",
              "<table border=\"1\" class=\"dataframe\">\n",
              "  <thead>\n",
              "    <tr style=\"text-align: right;\">\n",
              "      <th></th>\n",
              "      <th>Sales</th>\n",
              "    </tr>\n",
              "  </thead>\n",
              "  <tbody>\n",
              "    <tr>\n",
              "      <th>0</th>\n",
              "      <td>22.1</td>\n",
              "    </tr>\n",
              "    <tr>\n",
              "      <th>1</th>\n",
              "      <td>10.4</td>\n",
              "    </tr>\n",
              "    <tr>\n",
              "      <th>2</th>\n",
              "      <td>9.3</td>\n",
              "    </tr>\n",
              "    <tr>\n",
              "      <th>3</th>\n",
              "      <td>18.5</td>\n",
              "    </tr>\n",
              "    <tr>\n",
              "      <th>4</th>\n",
              "      <td>12.9</td>\n",
              "    </tr>\n",
              "  </tbody>\n",
              "</table>\n",
              "</div><br><label><b>dtype:</b> float64</label>"
            ]
          },
          "metadata": {},
          "execution_count": 8
        }
      ]
    },
    {
      "cell_type": "code",
      "source": [
        "# Imports function to split data into training and testing sets\n",
        "from sklearn.model_selection import train_test_split\n",
        "\n",
        "# Splits features (X) and target (y) into train and test parts. 80% of data for training, 20% for testing\n",
        "X_train, X_test, y_train, y_test = train_test_split(X, y, train_size=0.8, random_state=43)"
      ],
      "metadata": {
        "id": "dxyaaFuUnEhC"
      },
      "execution_count": 9,
      "outputs": []
    },
    {
      "cell_type": "code",
      "source": [
        "# Prints the data type of X_train (usually pandas Series since we selected a single column)\n",
        "print(type(X_train))"
      ],
      "metadata": {
        "colab": {
          "base_uri": "https://localhost:8080/"
        },
        "id": "_2ynT7ynnTg4",
        "outputId": "85ab45f6-7b1e-4b12-87c0-87ffe79e715e"
      },
      "execution_count": 10,
      "outputs": [
        {
          "output_type": "stream",
          "name": "stdout",
          "text": [
            "<class 'pandas.core.series.Series'>\n"
          ]
        }
      ]
    },
    {
      "cell_type": "code",
      "source": [
        "print(X_train.shape)\n",
        "print(X_test.shape)\n",
        "print(y_train.shape)\n",
        "print(y_test.shape)"
      ],
      "metadata": {
        "colab": {
          "base_uri": "https://localhost:8080/"
        },
        "id": "CprSGxbrnU0w",
        "outputId": "59c56460-17e5-4c5b-a947-b0bb84388073"
      },
      "execution_count": 11,
      "outputs": [
        {
          "output_type": "stream",
          "name": "stdout",
          "text": [
            "(160,)\n",
            "(40,)\n",
            "(160,)\n",
            "(40,)\n"
          ]
        }
      ]
    },
    {
      "cell_type": "code",
      "source": [
        "# It is a general convention in scikit-learn that observations are rows [2D], while features are columns[1D].\n",
        "# This is needed only when you are using a single feature; in this case, 'TV' which is 1D. To convert into the 2D we need to use the Reshape.\n",
        "# Reshape X_train and X_test from 1D arrays (Series) into 2D arrays (required by scikit-learn)\n",
        "# (-1, 1) means:\n",
        "#   -1 → automatically figure out the number of rows based on the data\n",
        "#    1 → set number of columns to 1 (since we have only one feature: 'TV')\n",
        "X_train = X_train.values.reshape(-1, 1)\n",
        "X_test = X_test.values.reshape(-1, 1)"
      ],
      "metadata": {
        "id": "xLkxGqaWnysh"
      },
      "execution_count": 12,
      "outputs": []
    },
    {
      "cell_type": "code",
      "source": [
        "# Print the shapes of training and testing sets to verify the split and reshaping\n",
        "print(X_train.shape)\n",
        "print(X_test.shape)\n",
        "print(y_train.shape)\n",
        "print(y_test.shape)"
      ],
      "metadata": {
        "colab": {
          "base_uri": "https://localhost:8080/"
        },
        "id": "zMhoVglQoWEp",
        "outputId": "1787485b-6e8f-446f-bdcb-c6fb8acdbba4"
      },
      "execution_count": 13,
      "outputs": [
        {
          "output_type": "stream",
          "name": "stdout",
          "text": [
            "(160, 1)\n",
            "(40, 1)\n",
            "(160,)\n",
            "(40,)\n"
          ]
        }
      ]
    },
    {
      "cell_type": "markdown",
      "source": [
        "# Model Fitting"
      ],
      "metadata": {
        "id": "BkGs1b-UOnpN"
      }
    },
    {
      "cell_type": "code",
      "source": [
        "# Import LinearRegression model from scikit-learn\n",
        "from sklearn.linear_model import LinearRegression\n",
        "\n",
        "# Create an instance of the LinearRegression model\n",
        "reg = LinearRegression()\n",
        "\n",
        "# Fit the model to the training data\n",
        "reg.fit(X_train, y_train)"
      ],
      "metadata": {
        "colab": {
          "base_uri": "https://localhost:8080/",
          "height": 80
        },
        "id": "bp-kBWbpozig",
        "outputId": "ec864aad-ecf0-467b-df7c-4c0c7448d00e"
      },
      "execution_count": 14,
      "outputs": [
        {
          "output_type": "execute_result",
          "data": {
            "text/plain": [
              "LinearRegression()"
            ],
            "text/html": [
              "<style>#sk-container-id-1 {\n",
              "  /* Definition of color scheme common for light and dark mode */\n",
              "  --sklearn-color-text: #000;\n",
              "  --sklearn-color-text-muted: #666;\n",
              "  --sklearn-color-line: gray;\n",
              "  /* Definition of color scheme for unfitted estimators */\n",
              "  --sklearn-color-unfitted-level-0: #fff5e6;\n",
              "  --sklearn-color-unfitted-level-1: #f6e4d2;\n",
              "  --sklearn-color-unfitted-level-2: #ffe0b3;\n",
              "  --sklearn-color-unfitted-level-3: chocolate;\n",
              "  /* Definition of color scheme for fitted estimators */\n",
              "  --sklearn-color-fitted-level-0: #f0f8ff;\n",
              "  --sklearn-color-fitted-level-1: #d4ebff;\n",
              "  --sklearn-color-fitted-level-2: #b3dbfd;\n",
              "  --sklearn-color-fitted-level-3: cornflowerblue;\n",
              "\n",
              "  /* Specific color for light theme */\n",
              "  --sklearn-color-text-on-default-background: var(--sg-text-color, var(--theme-code-foreground, var(--jp-content-font-color1, black)));\n",
              "  --sklearn-color-background: var(--sg-background-color, var(--theme-background, var(--jp-layout-color0, white)));\n",
              "  --sklearn-color-border-box: var(--sg-text-color, var(--theme-code-foreground, var(--jp-content-font-color1, black)));\n",
              "  --sklearn-color-icon: #696969;\n",
              "\n",
              "  @media (prefers-color-scheme: dark) {\n",
              "    /* Redefinition of color scheme for dark theme */\n",
              "    --sklearn-color-text-on-default-background: var(--sg-text-color, var(--theme-code-foreground, var(--jp-content-font-color1, white)));\n",
              "    --sklearn-color-background: var(--sg-background-color, var(--theme-background, var(--jp-layout-color0, #111)));\n",
              "    --sklearn-color-border-box: var(--sg-text-color, var(--theme-code-foreground, var(--jp-content-font-color1, white)));\n",
              "    --sklearn-color-icon: #878787;\n",
              "  }\n",
              "}\n",
              "\n",
              "#sk-container-id-1 {\n",
              "  color: var(--sklearn-color-text);\n",
              "}\n",
              "\n",
              "#sk-container-id-1 pre {\n",
              "  padding: 0;\n",
              "}\n",
              "\n",
              "#sk-container-id-1 input.sk-hidden--visually {\n",
              "  border: 0;\n",
              "  clip: rect(1px 1px 1px 1px);\n",
              "  clip: rect(1px, 1px, 1px, 1px);\n",
              "  height: 1px;\n",
              "  margin: -1px;\n",
              "  overflow: hidden;\n",
              "  padding: 0;\n",
              "  position: absolute;\n",
              "  width: 1px;\n",
              "}\n",
              "\n",
              "#sk-container-id-1 div.sk-dashed-wrapped {\n",
              "  border: 1px dashed var(--sklearn-color-line);\n",
              "  margin: 0 0.4em 0.5em 0.4em;\n",
              "  box-sizing: border-box;\n",
              "  padding-bottom: 0.4em;\n",
              "  background-color: var(--sklearn-color-background);\n",
              "}\n",
              "\n",
              "#sk-container-id-1 div.sk-container {\n",
              "  /* jupyter's `normalize.less` sets `[hidden] { display: none; }`\n",
              "     but bootstrap.min.css set `[hidden] { display: none !important; }`\n",
              "     so we also need the `!important` here to be able to override the\n",
              "     default hidden behavior on the sphinx rendered scikit-learn.org.\n",
              "     See: https://github.com/scikit-learn/scikit-learn/issues/21755 */\n",
              "  display: inline-block !important;\n",
              "  position: relative;\n",
              "}\n",
              "\n",
              "#sk-container-id-1 div.sk-text-repr-fallback {\n",
              "  display: none;\n",
              "}\n",
              "\n",
              "div.sk-parallel-item,\n",
              "div.sk-serial,\n",
              "div.sk-item {\n",
              "  /* draw centered vertical line to link estimators */\n",
              "  background-image: linear-gradient(var(--sklearn-color-text-on-default-background), var(--sklearn-color-text-on-default-background));\n",
              "  background-size: 2px 100%;\n",
              "  background-repeat: no-repeat;\n",
              "  background-position: center center;\n",
              "}\n",
              "\n",
              "/* Parallel-specific style estimator block */\n",
              "\n",
              "#sk-container-id-1 div.sk-parallel-item::after {\n",
              "  content: \"\";\n",
              "  width: 100%;\n",
              "  border-bottom: 2px solid var(--sklearn-color-text-on-default-background);\n",
              "  flex-grow: 1;\n",
              "}\n",
              "\n",
              "#sk-container-id-1 div.sk-parallel {\n",
              "  display: flex;\n",
              "  align-items: stretch;\n",
              "  justify-content: center;\n",
              "  background-color: var(--sklearn-color-background);\n",
              "  position: relative;\n",
              "}\n",
              "\n",
              "#sk-container-id-1 div.sk-parallel-item {\n",
              "  display: flex;\n",
              "  flex-direction: column;\n",
              "}\n",
              "\n",
              "#sk-container-id-1 div.sk-parallel-item:first-child::after {\n",
              "  align-self: flex-end;\n",
              "  width: 50%;\n",
              "}\n",
              "\n",
              "#sk-container-id-1 div.sk-parallel-item:last-child::after {\n",
              "  align-self: flex-start;\n",
              "  width: 50%;\n",
              "}\n",
              "\n",
              "#sk-container-id-1 div.sk-parallel-item:only-child::after {\n",
              "  width: 0;\n",
              "}\n",
              "\n",
              "/* Serial-specific style estimator block */\n",
              "\n",
              "#sk-container-id-1 div.sk-serial {\n",
              "  display: flex;\n",
              "  flex-direction: column;\n",
              "  align-items: center;\n",
              "  background-color: var(--sklearn-color-background);\n",
              "  padding-right: 1em;\n",
              "  padding-left: 1em;\n",
              "}\n",
              "\n",
              "\n",
              "/* Toggleable style: style used for estimator/Pipeline/ColumnTransformer box that is\n",
              "clickable and can be expanded/collapsed.\n",
              "- Pipeline and ColumnTransformer use this feature and define the default style\n",
              "- Estimators will overwrite some part of the style using the `sk-estimator` class\n",
              "*/\n",
              "\n",
              "/* Pipeline and ColumnTransformer style (default) */\n",
              "\n",
              "#sk-container-id-1 div.sk-toggleable {\n",
              "  /* Default theme specific background. It is overwritten whether we have a\n",
              "  specific estimator or a Pipeline/ColumnTransformer */\n",
              "  background-color: var(--sklearn-color-background);\n",
              "}\n",
              "\n",
              "/* Toggleable label */\n",
              "#sk-container-id-1 label.sk-toggleable__label {\n",
              "  cursor: pointer;\n",
              "  display: flex;\n",
              "  width: 100%;\n",
              "  margin-bottom: 0;\n",
              "  padding: 0.5em;\n",
              "  box-sizing: border-box;\n",
              "  text-align: center;\n",
              "  align-items: start;\n",
              "  justify-content: space-between;\n",
              "  gap: 0.5em;\n",
              "}\n",
              "\n",
              "#sk-container-id-1 label.sk-toggleable__label .caption {\n",
              "  font-size: 0.6rem;\n",
              "  font-weight: lighter;\n",
              "  color: var(--sklearn-color-text-muted);\n",
              "}\n",
              "\n",
              "#sk-container-id-1 label.sk-toggleable__label-arrow:before {\n",
              "  /* Arrow on the left of the label */\n",
              "  content: \"▸\";\n",
              "  float: left;\n",
              "  margin-right: 0.25em;\n",
              "  color: var(--sklearn-color-icon);\n",
              "}\n",
              "\n",
              "#sk-container-id-1 label.sk-toggleable__label-arrow:hover:before {\n",
              "  color: var(--sklearn-color-text);\n",
              "}\n",
              "\n",
              "/* Toggleable content - dropdown */\n",
              "\n",
              "#sk-container-id-1 div.sk-toggleable__content {\n",
              "  max-height: 0;\n",
              "  max-width: 0;\n",
              "  overflow: hidden;\n",
              "  text-align: left;\n",
              "  /* unfitted */\n",
              "  background-color: var(--sklearn-color-unfitted-level-0);\n",
              "}\n",
              "\n",
              "#sk-container-id-1 div.sk-toggleable__content.fitted {\n",
              "  /* fitted */\n",
              "  background-color: var(--sklearn-color-fitted-level-0);\n",
              "}\n",
              "\n",
              "#sk-container-id-1 div.sk-toggleable__content pre {\n",
              "  margin: 0.2em;\n",
              "  border-radius: 0.25em;\n",
              "  color: var(--sklearn-color-text);\n",
              "  /* unfitted */\n",
              "  background-color: var(--sklearn-color-unfitted-level-0);\n",
              "}\n",
              "\n",
              "#sk-container-id-1 div.sk-toggleable__content.fitted pre {\n",
              "  /* unfitted */\n",
              "  background-color: var(--sklearn-color-fitted-level-0);\n",
              "}\n",
              "\n",
              "#sk-container-id-1 input.sk-toggleable__control:checked~div.sk-toggleable__content {\n",
              "  /* Expand drop-down */\n",
              "  max-height: 200px;\n",
              "  max-width: 100%;\n",
              "  overflow: auto;\n",
              "}\n",
              "\n",
              "#sk-container-id-1 input.sk-toggleable__control:checked~label.sk-toggleable__label-arrow:before {\n",
              "  content: \"▾\";\n",
              "}\n",
              "\n",
              "/* Pipeline/ColumnTransformer-specific style */\n",
              "\n",
              "#sk-container-id-1 div.sk-label input.sk-toggleable__control:checked~label.sk-toggleable__label {\n",
              "  color: var(--sklearn-color-text);\n",
              "  background-color: var(--sklearn-color-unfitted-level-2);\n",
              "}\n",
              "\n",
              "#sk-container-id-1 div.sk-label.fitted input.sk-toggleable__control:checked~label.sk-toggleable__label {\n",
              "  background-color: var(--sklearn-color-fitted-level-2);\n",
              "}\n",
              "\n",
              "/* Estimator-specific style */\n",
              "\n",
              "/* Colorize estimator box */\n",
              "#sk-container-id-1 div.sk-estimator input.sk-toggleable__control:checked~label.sk-toggleable__label {\n",
              "  /* unfitted */\n",
              "  background-color: var(--sklearn-color-unfitted-level-2);\n",
              "}\n",
              "\n",
              "#sk-container-id-1 div.sk-estimator.fitted input.sk-toggleable__control:checked~label.sk-toggleable__label {\n",
              "  /* fitted */\n",
              "  background-color: var(--sklearn-color-fitted-level-2);\n",
              "}\n",
              "\n",
              "#sk-container-id-1 div.sk-label label.sk-toggleable__label,\n",
              "#sk-container-id-1 div.sk-label label {\n",
              "  /* The background is the default theme color */\n",
              "  color: var(--sklearn-color-text-on-default-background);\n",
              "}\n",
              "\n",
              "/* On hover, darken the color of the background */\n",
              "#sk-container-id-1 div.sk-label:hover label.sk-toggleable__label {\n",
              "  color: var(--sklearn-color-text);\n",
              "  background-color: var(--sklearn-color-unfitted-level-2);\n",
              "}\n",
              "\n",
              "/* Label box, darken color on hover, fitted */\n",
              "#sk-container-id-1 div.sk-label.fitted:hover label.sk-toggleable__label.fitted {\n",
              "  color: var(--sklearn-color-text);\n",
              "  background-color: var(--sklearn-color-fitted-level-2);\n",
              "}\n",
              "\n",
              "/* Estimator label */\n",
              "\n",
              "#sk-container-id-1 div.sk-label label {\n",
              "  font-family: monospace;\n",
              "  font-weight: bold;\n",
              "  display: inline-block;\n",
              "  line-height: 1.2em;\n",
              "}\n",
              "\n",
              "#sk-container-id-1 div.sk-label-container {\n",
              "  text-align: center;\n",
              "}\n",
              "\n",
              "/* Estimator-specific */\n",
              "#sk-container-id-1 div.sk-estimator {\n",
              "  font-family: monospace;\n",
              "  border: 1px dotted var(--sklearn-color-border-box);\n",
              "  border-radius: 0.25em;\n",
              "  box-sizing: border-box;\n",
              "  margin-bottom: 0.5em;\n",
              "  /* unfitted */\n",
              "  background-color: var(--sklearn-color-unfitted-level-0);\n",
              "}\n",
              "\n",
              "#sk-container-id-1 div.sk-estimator.fitted {\n",
              "  /* fitted */\n",
              "  background-color: var(--sklearn-color-fitted-level-0);\n",
              "}\n",
              "\n",
              "/* on hover */\n",
              "#sk-container-id-1 div.sk-estimator:hover {\n",
              "  /* unfitted */\n",
              "  background-color: var(--sklearn-color-unfitted-level-2);\n",
              "}\n",
              "\n",
              "#sk-container-id-1 div.sk-estimator.fitted:hover {\n",
              "  /* fitted */\n",
              "  background-color: var(--sklearn-color-fitted-level-2);\n",
              "}\n",
              "\n",
              "/* Specification for estimator info (e.g. \"i\" and \"?\") */\n",
              "\n",
              "/* Common style for \"i\" and \"?\" */\n",
              "\n",
              ".sk-estimator-doc-link,\n",
              "a:link.sk-estimator-doc-link,\n",
              "a:visited.sk-estimator-doc-link {\n",
              "  float: right;\n",
              "  font-size: smaller;\n",
              "  line-height: 1em;\n",
              "  font-family: monospace;\n",
              "  background-color: var(--sklearn-color-background);\n",
              "  border-radius: 1em;\n",
              "  height: 1em;\n",
              "  width: 1em;\n",
              "  text-decoration: none !important;\n",
              "  margin-left: 0.5em;\n",
              "  text-align: center;\n",
              "  /* unfitted */\n",
              "  border: var(--sklearn-color-unfitted-level-1) 1pt solid;\n",
              "  color: var(--sklearn-color-unfitted-level-1);\n",
              "}\n",
              "\n",
              ".sk-estimator-doc-link.fitted,\n",
              "a:link.sk-estimator-doc-link.fitted,\n",
              "a:visited.sk-estimator-doc-link.fitted {\n",
              "  /* fitted */\n",
              "  border: var(--sklearn-color-fitted-level-1) 1pt solid;\n",
              "  color: var(--sklearn-color-fitted-level-1);\n",
              "}\n",
              "\n",
              "/* On hover */\n",
              "div.sk-estimator:hover .sk-estimator-doc-link:hover,\n",
              ".sk-estimator-doc-link:hover,\n",
              "div.sk-label-container:hover .sk-estimator-doc-link:hover,\n",
              ".sk-estimator-doc-link:hover {\n",
              "  /* unfitted */\n",
              "  background-color: var(--sklearn-color-unfitted-level-3);\n",
              "  color: var(--sklearn-color-background);\n",
              "  text-decoration: none;\n",
              "}\n",
              "\n",
              "div.sk-estimator.fitted:hover .sk-estimator-doc-link.fitted:hover,\n",
              ".sk-estimator-doc-link.fitted:hover,\n",
              "div.sk-label-container:hover .sk-estimator-doc-link.fitted:hover,\n",
              ".sk-estimator-doc-link.fitted:hover {\n",
              "  /* fitted */\n",
              "  background-color: var(--sklearn-color-fitted-level-3);\n",
              "  color: var(--sklearn-color-background);\n",
              "  text-decoration: none;\n",
              "}\n",
              "\n",
              "/* Span, style for the box shown on hovering the info icon */\n",
              ".sk-estimator-doc-link span {\n",
              "  display: none;\n",
              "  z-index: 9999;\n",
              "  position: relative;\n",
              "  font-weight: normal;\n",
              "  right: .2ex;\n",
              "  padding: .5ex;\n",
              "  margin: .5ex;\n",
              "  width: min-content;\n",
              "  min-width: 20ex;\n",
              "  max-width: 50ex;\n",
              "  color: var(--sklearn-color-text);\n",
              "  box-shadow: 2pt 2pt 4pt #999;\n",
              "  /* unfitted */\n",
              "  background: var(--sklearn-color-unfitted-level-0);\n",
              "  border: .5pt solid var(--sklearn-color-unfitted-level-3);\n",
              "}\n",
              "\n",
              ".sk-estimator-doc-link.fitted span {\n",
              "  /* fitted */\n",
              "  background: var(--sklearn-color-fitted-level-0);\n",
              "  border: var(--sklearn-color-fitted-level-3);\n",
              "}\n",
              "\n",
              ".sk-estimator-doc-link:hover span {\n",
              "  display: block;\n",
              "}\n",
              "\n",
              "/* \"?\"-specific style due to the `<a>` HTML tag */\n",
              "\n",
              "#sk-container-id-1 a.estimator_doc_link {\n",
              "  float: right;\n",
              "  font-size: 1rem;\n",
              "  line-height: 1em;\n",
              "  font-family: monospace;\n",
              "  background-color: var(--sklearn-color-background);\n",
              "  border-radius: 1rem;\n",
              "  height: 1rem;\n",
              "  width: 1rem;\n",
              "  text-decoration: none;\n",
              "  /* unfitted */\n",
              "  color: var(--sklearn-color-unfitted-level-1);\n",
              "  border: var(--sklearn-color-unfitted-level-1) 1pt solid;\n",
              "}\n",
              "\n",
              "#sk-container-id-1 a.estimator_doc_link.fitted {\n",
              "  /* fitted */\n",
              "  border: var(--sklearn-color-fitted-level-1) 1pt solid;\n",
              "  color: var(--sklearn-color-fitted-level-1);\n",
              "}\n",
              "\n",
              "/* On hover */\n",
              "#sk-container-id-1 a.estimator_doc_link:hover {\n",
              "  /* unfitted */\n",
              "  background-color: var(--sklearn-color-unfitted-level-3);\n",
              "  color: var(--sklearn-color-background);\n",
              "  text-decoration: none;\n",
              "}\n",
              "\n",
              "#sk-container-id-1 a.estimator_doc_link.fitted:hover {\n",
              "  /* fitted */\n",
              "  background-color: var(--sklearn-color-fitted-level-3);\n",
              "}\n",
              "</style><div id=\"sk-container-id-1\" class=\"sk-top-container\"><div class=\"sk-text-repr-fallback\"><pre>LinearRegression()</pre><b>In a Jupyter environment, please rerun this cell to show the HTML representation or trust the notebook. <br />On GitHub, the HTML representation is unable to render, please try loading this page with nbviewer.org.</b></div><div class=\"sk-container\" hidden><div class=\"sk-item\"><div class=\"sk-estimator fitted sk-toggleable\"><input class=\"sk-toggleable__control sk-hidden--visually\" id=\"sk-estimator-id-1\" type=\"checkbox\" checked><label for=\"sk-estimator-id-1\" class=\"sk-toggleable__label fitted sk-toggleable__label-arrow\"><div><div>LinearRegression</div></div><div><a class=\"sk-estimator-doc-link fitted\" rel=\"noreferrer\" target=\"_blank\" href=\"https://scikit-learn.org/1.6/modules/generated/sklearn.linear_model.LinearRegression.html\">?<span>Documentation for LinearRegression</span></a><span class=\"sk-estimator-doc-link fitted\">i<span>Fitted</span></span></div></label><div class=\"sk-toggleable__content fitted\"><pre>LinearRegression()</pre></div> </div></div></div></div>"
            ]
          },
          "metadata": {},
          "execution_count": 14
        }
      ]
    },
    {
      "cell_type": "code",
      "source": [
        "# Print the intercept and coefficients\n",
        "print(f\"Intercept (a): {reg.intercept_}\")\n",
        "print(f\"Coefficient (m): {reg.coef_}\")"
      ],
      "metadata": {
        "colab": {
          "base_uri": "https://localhost:8080/"
        },
        "id": "vcczd8fJpV2Y",
        "outputId": "0d87867b-f5a3-4f23-c57f-b7067d8f3640"
      },
      "execution_count": 15,
      "outputs": [
        {
          "output_type": "stream",
          "name": "stdout",
          "text": [
            "Intercept (a): 7.118269529187898\n",
            "Coefficient (m): [0.04650333]\n"
          ]
        }
      ]
    },
    {
      "cell_type": "markdown",
      "source": [
        "$y = 7.118 + 0.0464 \\times TV $<br>\n",
        "\n",
        "Now, let's use this equation to predict our sales."
      ],
      "metadata": {
        "id": "gPvrnQGgpGrR"
      }
    },
    {
      "cell_type": "markdown",
      "source": [
        "# Prediction"
      ],
      "metadata": {
        "id": "E06rqSQCO4ur"
      }
    },
    {
      "cell_type": "code",
      "source": [
        "# Use the trained model to predict the target values for the test dataset\n",
        "y_pred = reg.predict(X_test)"
      ],
      "metadata": {
        "id": "L38CbZHppBpw"
      },
      "execution_count": 16,
      "outputs": []
    },
    {
      "cell_type": "code",
      "source": [
        "# Getting the shape of y_test\n",
        "y_pred.shape"
      ],
      "metadata": {
        "colab": {
          "base_uri": "https://localhost:8080/"
        },
        "id": "nqIAHKGDpjaB",
        "outputId": "e5b521d4-00a6-4d5a-9550-47d8f6c52613"
      },
      "execution_count": 17,
      "outputs": [
        {
          "output_type": "execute_result",
          "data": {
            "text/plain": [
              "(40,)"
            ]
          },
          "metadata": {},
          "execution_count": 17
        }
      ]
    },
    {
      "cell_type": "code",
      "source": [
        "# Plotting Actual vs Predicted values for Sales\n",
        "import matplotlib.pyplot as plt\n",
        "\n",
        "# Create a sequence index (1 to length of test set) for plotting\n",
        "indices = range(1, len(y_test) + 1)\n",
        "\n",
        "# Set figure size for better visibility\n",
        "plt.figure(figsize=(8,5))\n",
        "plt.plot(indices, y_test, label=\"Actual\",\n",
        "         color=\"blue\", linewidth=2)\n",
        "plt.plot(indices, y_pred, label=\"Predicted\",\n",
        "         color=\"red\", linewidth=2)\n",
        "\n",
        "# Add title and axis labels\n",
        "plt.title(\"Actual vs Predicted Sales\", fontsize=18)\n",
        "plt.xlabel(\"Index\", fontsize=14)\n",
        "plt.ylabel(\"Sales\", fontsize=14)\n",
        "\n",
        "# Show legend for clarity\n",
        "plt.legend()\n",
        "\n",
        "plt.show()"
      ],
      "metadata": {
        "colab": {
          "base_uri": "https://localhost:8080/",
          "height": 497
        },
        "id": "yjKvlS9vpkoA",
        "outputId": "9dd304e0-893a-4e6f-9694-19f996056e7c"
      },
      "execution_count": 18,
      "outputs": [
        {
          "output_type": "display_data",
          "data": {
            "text/plain": [
              "<Figure size 800x500 with 1 Axes>"
            ],
            "image/png": "[encoded data removed]"
          },
          "metadata": {}
        }
      ]
    },
    {
      "cell_type": "code",
      "source": [
        "# Plotting Error Terms (difference between Actual and Predicted Sales)\n",
        "import matplotlib.pyplot as plt\n",
        "\n",
        "# Create a sequence index for plotting\n",
        "indices = range(1, len(y_test) + 1)\n",
        "\n",
        "# Set figure size\n",
        "plt.figure(figsize=(8,5))\n",
        "plt.plot(indices, y_test - y_pred, color=\"blue\", linewidth=2)\n",
        "\n",
        "# Add title and axis labels\n",
        "plt.title(\"Error Terms (Residuals)\", fontsize=18)\n",
        "plt.xlabel(\"Index\", fontsize=14)\n",
        "plt.ylabel(\"Actual - Predicted\", fontsize=14)\n",
        "\n",
        "plt.show()"
      ],
      "metadata": {
        "colab": {
          "base_uri": "https://localhost:8080/",
          "height": 497
        },
        "id": "WUFYl0DBpo-Y",
        "outputId": "d76a400c-4c86-4830-a0f7-12f8874388bd"
      },
      "execution_count": 19,
      "outputs": [
        {
          "output_type": "display_data",
          "data": {
            "text/plain": [
              "<Figure size 800x500 with 1 Axes>"
            ],
            "image/png": "[encoded data removed]"
          },
          "metadata": {}
        }
      ]
    },
    {
      "cell_type": "code",
      "source": [
        "# Predict the target/output value for a single data point where the feature value is 23\n",
        "reg.predict([[23]])"
      ],
      "metadata": {
        "colab": {
          "base_uri": "https://localhost:8080/"
        },
        "id": "okdiHgmhCAW1",
        "outputId": "6a5d61e0-4645-48be-e6c2-c2105dfd8a97"
      },
      "execution_count": 20,
      "outputs": [
        {
          "output_type": "execute_result",
          "data": {
            "text/plain": [
              "array([8.18784607])"
            ]
          },
          "metadata": {},
          "execution_count": 20
        }
      ]
    },
    {
      "cell_type": "markdown",
      "source": [
        "# Evaluation"
      ],
      "metadata": {
        "id": "EA7MXhpxQF_D"
      }
    },
    {
      "cell_type": "code",
      "source": [
        "# Import error metrics\n",
        "from sklearn.metrics import mean_squared_error\n",
        "\n",
        "# Calculate Mean Squared Error (MSE) between actual and predicted values\n",
        "mse = mean_squared_error(y_test, y_pred)\n",
        "\n",
        "# Print the MSE\n",
        "print(f\"Mean Squared Error (MSE): {mse}\")"
      ],
      "metadata": {
        "id": "5NV-vn6RpuBQ",
        "colab": {
          "base_uri": "https://localhost:8080/"
        },
        "outputId": "15721aac-4331-4e00-f371-ec77cf4bba8b"
      },
      "execution_count": 21,
      "outputs": [
        {
          "output_type": "stream",
          "name": "stdout",
          "text": [
            "Mean Squared Error (MSE): 9.395019220750086\n"
          ]
        }
      ]
    },
    {
      "cell_type": "code",
      "source": [
        "# Calculate R-squared (coefficient of determination)\n",
        "from sklearn.metrics import r2_score\n",
        "\n",
        "r2 = r2_score(y_test, y_pred)\n",
        "print(f\"R-squared (R2): {r2}\")"
      ],
      "metadata": {
        "id": "hwLcvZkLpx16",
        "colab": {
          "base_uri": "https://localhost:8080/"
        },
        "outputId": "af2bf2c8-f53b-46a5-911e-9be70d53e489"
      },
      "execution_count": 22,
      "outputs": [
        {
          "output_type": "stream",
          "name": "stdout",
          "text": [
            "R-squared (R2): 0.6736251170665546\n"
          ]
        }
      ]
    }
  ]
}